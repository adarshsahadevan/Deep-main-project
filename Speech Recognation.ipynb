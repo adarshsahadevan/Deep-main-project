{
 "cells": [
  {
   "cell_type": "markdown",
   "id": "3bbb5cd8",
   "metadata": {},
   "source": [
    "### speech Recognition\n",
    "\n",
    "###### speechrecognition library in python servers the purpose of providing with a convenient and easy-to-use interface for performing speech recognition task within Python Programs.\n",
    "\n",
    "###### It allows you to transcribe speech from various audio sources such as microphone input,audio files or audio streams.\n",
    "\n",
    "###### Speech Recognition:The primary purpose of the library is to transcribe spoken language into tex"
   ]
  },
  {
   "cell_type": "code",
   "execution_count": 1,
   "id": "3975a5ff",
   "metadata": {},
   "outputs": [
    {
     "name": "stdout",
     "output_type": "stream",
     "text": [
      "Collecting SpeechRecognition\n",
      "  Obtaining dependency information for SpeechRecognition from https://files.pythonhosted.org/packages/e6/28/b5e6e769002e46a5edef16871884721d4b68da31dbd4509db6ea50f8b224/SpeechRecognition-3.10.4-py2.py3-none-any.whl.metadata\n",
      "  Downloading SpeechRecognition-3.10.4-py2.py3-none-any.whl.metadata (28 kB)\n",
      "Requirement already satisfied: requests>=2.26.0 in c:\\users\\acer\\anaconda3\\lib\\site-packages (from SpeechRecognition) (2.31.0)\n",
      "Requirement already satisfied: typing-extensions in c:\\users\\acer\\anaconda3\\lib\\site-packages (from SpeechRecognition) (4.7.1)\n",
      "Requirement already satisfied: charset-normalizer<4,>=2 in c:\\users\\acer\\anaconda3\\lib\\site-packages (from requests>=2.26.0->SpeechRecognition) (2.0.4)\n",
      "Requirement already satisfied: idna<4,>=2.5 in c:\\users\\acer\\anaconda3\\lib\\site-packages (from requests>=2.26.0->SpeechRecognition) (3.4)\n",
      "Requirement already satisfied: urllib3<3,>=1.21.1 in c:\\users\\acer\\anaconda3\\lib\\site-packages (from requests>=2.26.0->SpeechRecognition) (1.26.16)\n",
      "Requirement already satisfied: certifi>=2017.4.17 in c:\\users\\acer\\anaconda3\\lib\\site-packages (from requests>=2.26.0->SpeechRecognition) (2023.7.22)\n",
      "Downloading SpeechRecognition-3.10.4-py2.py3-none-any.whl (32.8 MB)\n",
      "   ---------------------------------------- 0.0/32.8 MB ? eta -:--:--\n",
      "   ---------------------------------------- 0.0/32.8 MB ? eta -:--:--\n",
      "   ---------------------------------------- 0.0/32.8 MB 435.7 kB/s eta 0:01:16\n",
      "   ---------------------------------------- 0.1/32.8 MB 653.6 kB/s eta 0:00:51\n",
      "   ---------------------------------------- 0.2/32.8 MB 1.3 MB/s eta 0:00:25\n",
      "   ---------------------------------------- 0.3/32.8 MB 1.8 MB/s eta 0:00:19\n",
      "    --------------------------------------- 0.6/32.8 MB 2.8 MB/s eta 0:00:12\n",
      "   - -------------------------------------- 1.1/32.8 MB 3.8 MB/s eta 0:00:09\n",
      "   -- ------------------------------------- 2.1/32.8 MB 6.7 MB/s eta 0:00:05\n",
      "   --- ------------------------------------ 2.7/32.8 MB 7.6 MB/s eta 0:00:04\n",
      "   ---- ----------------------------------- 3.7/32.8 MB 9.6 MB/s eta 0:00:04\n",
      "   ----- ---------------------------------- 4.6/32.8 MB 10.5 MB/s eta 0:00:03\n",
      "   ------- -------------------------------- 6.0/32.8 MB 12.5 MB/s eta 0:00:03\n",
      "   -------- ------------------------------- 6.6/32.8 MB 12.8 MB/s eta 0:00:03\n",
      "   --------- ------------------------------ 7.6/32.8 MB 13.2 MB/s eta 0:00:02\n",
      "   --------- ------------------------------ 8.2/32.8 MB 13.5 MB/s eta 0:00:02\n",
      "   ----------- ---------------------------- 9.3/32.8 MB 14.1 MB/s eta 0:00:02\n",
      "   ----------- ---------------------------- 9.4/32.8 MB 13.6 MB/s eta 0:00:02\n",
      "   ----------- ---------------------------- 9.6/32.8 MB 13.1 MB/s eta 0:00:02\n",
      "   ------------- -------------------------- 11.1/32.8 MB 19.3 MB/s eta 0:00:02\n",
      "   -------------- ------------------------- 12.1/32.8 MB 19.8 MB/s eta 0:00:02\n",
      "   --------------- ------------------------ 12.9/32.8 MB 20.5 MB/s eta 0:00:01\n",
      "   ---------------- ----------------------- 13.8/32.8 MB 19.9 MB/s eta 0:00:01\n",
      "   ----------------- ---------------------- 14.6/32.8 MB 20.5 MB/s eta 0:00:01\n",
      "   ------------------- -------------------- 15.9/32.8 MB 19.9 MB/s eta 0:00:01\n",
      "   --------------------- ------------------ 17.6/32.8 MB 21.8 MB/s eta 0:00:01\n",
      "   ---------------------- ----------------- 18.7/32.8 MB 23.4 MB/s eta 0:00:01\n",
      "   ------------------------ --------------- 20.2/32.8 MB 27.3 MB/s eta 0:00:01\n",
      "   ------------------------- -------------- 21.2/32.8 MB 27.3 MB/s eta 0:00:01\n",
      "   --------------------------- ------------ 22.5/32.8 MB 27.3 MB/s eta 0:00:01\n",
      "   ----------------------------- ---------- 23.9/32.8 MB 31.2 MB/s eta 0:00:01\n",
      "   ------------------------------- -------- 25.5/32.8 MB 32.8 MB/s eta 0:00:01\n",
      "   -------------------------------- ------- 26.6/32.8 MB 31.2 MB/s eta 0:00:01\n",
      "   ---------------------------------- ----- 28.0/32.8 MB 29.7 MB/s eta 0:00:01\n",
      "   ----------------------------------- ---- 29.1/32.8 MB 29.7 MB/s eta 0:00:01\n",
      "   ------------------------------------- -- 30.5/32.8 MB 29.7 MB/s eta 0:00:01\n",
      "   -------------------------------------- - 31.5/32.8 MB 29.7 MB/s eta 0:00:01\n",
      "   ---------------------------------------  32.8/32.8 MB 29.7 MB/s eta 0:00:01\n",
      "   ---------------------------------------  32.8/32.8 MB 29.7 MB/s eta 0:00:01\n",
      "   ---------------------------------------  32.8/32.8 MB 29.7 MB/s eta 0:00:01\n",
      "   ---------------------------------------- 32.8/32.8 MB 21.1 MB/s eta 0:00:00\n",
      "Installing collected packages: SpeechRecognition\n",
      "Successfully installed SpeechRecognition-3.10.4\n",
      "Note: you may need to restart the kernel to use updated packages.\n"
     ]
    }
   ],
   "source": [
    "pip install SpeechRecognition"
   ]
  },
  {
   "cell_type": "code",
   "execution_count": 2,
   "id": "589f0274",
   "metadata": {},
   "outputs": [
    {
     "name": "stdout",
     "output_type": "stream",
     "text": [
      "Collecting pyaudio\n",
      "  Obtaining dependency information for pyaudio from https://files.pythonhosted.org/packages/82/d8/f043c854aad450a76e476b0cf9cda1956419e1dacf1062eb9df3c0055abe/PyAudio-0.2.14-cp311-cp311-win_amd64.whl.metadata\n",
      "  Downloading PyAudio-0.2.14-cp311-cp311-win_amd64.whl.metadata (2.7 kB)\n",
      "Downloading PyAudio-0.2.14-cp311-cp311-win_amd64.whl (164 kB)\n",
      "   ---------------------------------------- 0.0/164.1 kB ? eta -:--:--\n",
      "   -- ------------------------------------- 10.2/164.1 kB ? eta -:--:--\n",
      "   ---- ---------------------------------- 20.5/164.1 kB 165.2 kB/s eta 0:00:01\n",
      "   ------- ------------------------------- 30.7/164.1 kB 262.6 kB/s eta 0:00:01\n",
      "   ------------ -------------------------- 51.2/164.1 kB 327.7 kB/s eta 0:00:01\n",
      "   ------------------------------ ------- 133.1/164.1 kB 657.1 kB/s eta 0:00:01\n",
      "   -------------------------------------- 164.1/164.1 kB 757.8 kB/s eta 0:00:00\n",
      "Installing collected packages: pyaudio\n",
      "Successfully installed pyaudio-0.2.14\n",
      "Note: you may need to restart the kernel to use updated packages.\n"
     ]
    }
   ],
   "source": [
    "pip install pyaudio"
   ]
  },
  {
   "cell_type": "code",
   "execution_count": 3,
   "id": "e1d6e2c2",
   "metadata": {},
   "outputs": [],
   "source": [
    "# Audio Playback:You can use pyaudio to play audio files or generate audio signals in real-time\n",
    "\n",
    "# Audio recording:- Pyaudio enables you to record audio from microphones or other input devices"
   ]
  },
  {
   "cell_type": "code",
   "execution_count": 2,
   "id": "0343d00b",
   "metadata": {},
   "outputs": [
    {
     "name": "stdout",
     "output_type": "stream",
     "text": [
      "say anything : \n",
      "hello how are you\n"
     ]
    }
   ],
   "source": [
    "import speech_recognition as sr\n",
    "\n",
    "r = sr.Recognizer()\n",
    "\n",
    "with sr.Microphone() as source:\n",
    "    r.adjust_for_ambient_noise(source,duration=5) # here 5 is 5 seconds\n",
    "    # r.energy_threshold()\n",
    "    print(\"say anything : \")\n",
    "    audio = r.listen(source)\n",
    "    try:\n",
    "        text = r.recognize_google(audio)\n",
    "        print(text)\n",
    "    except:\n",
    "        print(\"sorry,could not recognise\")"
   ]
  },
  {
   "cell_type": "code",
   "execution_count": null,
   "id": "6cbffa59",
   "metadata": {},
   "outputs": [],
   "source": []
  },
  {
   "cell_type": "code",
   "execution_count": null,
   "id": "1535f9e7",
   "metadata": {},
   "outputs": [],
   "source": []
  }
 ],
 "metadata": {
  "kernelspec": {
   "display_name": "Python 3 (ipykernel)",
   "language": "python",
   "name": "python3"
  },
  "language_info": {
   "codemirror_mode": {
    "name": "ipython",
    "version": 3
   },
   "file_extension": ".py",
   "mimetype": "text/x-python",
   "name": "python",
   "nbconvert_exporter": "python",
   "pygments_lexer": "ipython3",
   "version": "3.11.5"
  }
 },
 "nbformat": 4,
 "nbformat_minor": 5
}
