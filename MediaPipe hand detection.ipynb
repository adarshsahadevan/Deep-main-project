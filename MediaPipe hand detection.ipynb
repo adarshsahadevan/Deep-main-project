{
 "cells": [
  {
   "cell_type": "code",
   "execution_count": 1,
   "id": "bae2c70b",
   "metadata": {},
   "outputs": [
    {
     "name": "stdout",
     "output_type": "stream",
     "text": [
      "Requirement already satisfied: mediapipe in c:\\users\\acer\\appdata\\roaming\\python\\python311\\site-packages (0.10.14)\n",
      "Requirement already satisfied: absl-py in c:\\users\\acer\\anaconda3\\lib\\site-packages (from mediapipe) (2.1.0)\n",
      "Requirement already satisfied: attrs>=19.1.0 in c:\\users\\acer\\anaconda3\\lib\\site-packages (from mediapipe) (22.1.0)\n",
      "Requirement already satisfied: flatbuffers>=2.0 in c:\\users\\acer\\anaconda3\\lib\\site-packages (from mediapipe) (24.3.25)\n",
      "Requirement already satisfied: jax in c:\\users\\acer\\appdata\\roaming\\python\\python311\\site-packages (from mediapipe) (0.4.30)\n",
      "Requirement already satisfied: jaxlib in c:\\users\\acer\\appdata\\roaming\\python\\python311\\site-packages (from mediapipe) (0.4.30)\n",
      "Requirement already satisfied: matplotlib in c:\\users\\acer\\anaconda3\\lib\\site-packages (from mediapipe) (3.7.2)\n",
      "Requirement already satisfied: numpy in c:\\users\\acer\\anaconda3\\lib\\site-packages (from mediapipe) (1.24.3)\n",
      "Requirement already satisfied: opencv-contrib-python in c:\\users\\acer\\appdata\\roaming\\python\\python311\\site-packages (from mediapipe) (4.10.0.84)\n",
      "Requirement already satisfied: protobuf<5,>=4.25.3 in c:\\users\\acer\\anaconda3\\lib\\site-packages (from mediapipe) (4.25.3)\n",
      "Requirement already satisfied: sounddevice>=0.4.4 in c:\\users\\acer\\appdata\\roaming\\python\\python311\\site-packages (from mediapipe) (0.4.7)\n",
      "Requirement already satisfied: CFFI>=1.0 in c:\\users\\acer\\anaconda3\\lib\\site-packages (from sounddevice>=0.4.4->mediapipe) (1.15.1)\n",
      "Requirement already satisfied: ml-dtypes>=0.2.0 in c:\\users\\acer\\anaconda3\\lib\\site-packages (from jax->mediapipe) (0.3.2)\n",
      "Requirement already satisfied: opt-einsum in c:\\users\\acer\\anaconda3\\lib\\site-packages (from jax->mediapipe) (3.3.0)\n",
      "Requirement already satisfied: scipy>=1.9 in c:\\users\\acer\\anaconda3\\lib\\site-packages (from jax->mediapipe) (1.11.1)\n",
      "Requirement already satisfied: contourpy>=1.0.1 in c:\\users\\acer\\anaconda3\\lib\\site-packages (from matplotlib->mediapipe) (1.0.5)\n",
      "Requirement already satisfied: cycler>=0.10 in c:\\users\\acer\\anaconda3\\lib\\site-packages (from matplotlib->mediapipe) (0.11.0)\n",
      "Requirement already satisfied: fonttools>=4.22.0 in c:\\users\\acer\\anaconda3\\lib\\site-packages (from matplotlib->mediapipe) (4.25.0)\n",
      "Requirement already satisfied: kiwisolver>=1.0.1 in c:\\users\\acer\\anaconda3\\lib\\site-packages (from matplotlib->mediapipe) (1.4.4)\n",
      "Requirement already satisfied: packaging>=20.0 in c:\\users\\acer\\anaconda3\\lib\\site-packages (from matplotlib->mediapipe) (23.1)\n",
      "Requirement already satisfied: pillow>=6.2.0 in c:\\users\\acer\\anaconda3\\lib\\site-packages (from matplotlib->mediapipe) (9.4.0)\n",
      "Requirement already satisfied: pyparsing<3.1,>=2.3.1 in c:\\users\\acer\\anaconda3\\lib\\site-packages (from matplotlib->mediapipe) (3.0.9)\n",
      "Requirement already satisfied: python-dateutil>=2.7 in c:\\users\\acer\\anaconda3\\lib\\site-packages (from matplotlib->mediapipe) (2.8.2)\n",
      "Requirement already satisfied: pycparser in c:\\users\\acer\\anaconda3\\lib\\site-packages (from CFFI>=1.0->sounddevice>=0.4.4->mediapipe) (2.21)\n",
      "Requirement already satisfied: six>=1.5 in c:\\users\\acer\\anaconda3\\lib\\site-packages (from python-dateutil>=2.7->matplotlib->mediapipe) (1.16.0)\n",
      "Note: you may need to restart the kernel to use updated packages.\n"
     ]
    }
   ],
   "source": [
    "pip install mediapipe --user"
   ]
  },
  {
   "cell_type": "code",
   "execution_count": 2,
   "id": "1705dd2c",
   "metadata": {},
   "outputs": [],
   "source": [
    "import mediapipe as mp\n",
    "import cv2"
   ]
  },
  {
   "cell_type": "code",
   "execution_count": 3,
   "id": "8e5a77ec",
   "metadata": {},
   "outputs": [],
   "source": [
    "mphands=mp.solutions.hands\n",
    "mp_drawings=mp.solutions.drawing_utils"
   ]
  },
  {
   "cell_type": "code",
   "execution_count": 4,
   "id": "49d84f96",
   "metadata": {},
   "outputs": [],
   "source": [
    "hands=mphands.Hands()"
   ]
  },
  {
   "cell_type": "code",
   "execution_count": 5,
   "id": "9d83257a",
   "metadata": {},
   "outputs": [
    {
     "name": "stderr",
     "output_type": "stream",
     "text": [
      "C:\\Users\\ACER\\anaconda3\\Lib\\site-packages\\google\\protobuf\\symbol_database.py:55: UserWarning: SymbolDatabase.GetPrototype() is deprecated. Please use message_factory.GetMessageClass() instead. SymbolDatabase.GetPrototype() will be removed soon.\n",
      "  warnings.warn('SymbolDatabase.GetPrototype() is deprecated. Please '\n"
     ]
    }
   ],
   "source": [
    "video=cv2.VideoCapture(0)\n",
    "while True:\n",
    "    suc,img=video.read()\n",
    "    img=cv2.cvtColor(img,cv2.COLOR_BGR2RGB)\n",
    "    result=hands.process(img) \n",
    "    img=cv2.cvtColor(img,cv2.COLOR_RGB2BGR)\n",
    "    if result.multi_hand_landmarks:\n",
    "        for hand_landmarks in result.multi_hand_landmarks:\n",
    "            mp_drawings.draw_landmarks(img,hand_landmarks,mphands.HAND_CONNECTIONS)\n",
    "    cv2.imshow('HAND',img)\n",
    "    if cv2.waitKey(1) & 0XFF==ord('q'):\n",
    "        break\n",
    "video.release()\n",
    "cv2.destroyAllWindows()"
   ]
  },
  {
   "cell_type": "code",
   "execution_count": 7,
   "id": "6c9ec078",
   "metadata": {
    "scrolled": true
   },
   "outputs": [
    {
     "data": {
      "text/plain": [
       "[landmark {\n",
       "   x: 0.477768719\n",
       "   y: 0.963315368\n",
       "   z: 5.9280336e-007\n",
       " }\n",
       " landmark {\n",
       "   x: 0.590883374\n",
       "   y: 0.921338439\n",
       "   z: -0.0383111276\n",
       " }\n",
       " landmark {\n",
       "   x: 0.687959313\n",
       "   y: 0.807159483\n",
       "   z: -0.0534275807\n",
       " }\n",
       " landmark {\n",
       "   x: 0.753510654\n",
       "   y: 0.705717325\n",
       "   z: -0.0685324371\n",
       " }\n",
       " landmark {\n",
       "   x: 0.815418\n",
       "   y: 0.640468836\n",
       "   z: -0.0832844079\n",
       " }\n",
       " landmark {\n",
       "   x: 0.629175782\n",
       "   y: 0.572707832\n",
       "   z: -0.0208167303\n",
       " }\n",
       " landmark {\n",
       "   x: 0.670506418\n",
       "   y: 0.425213099\n",
       "   z: -0.0506468\n",
       " }\n",
       " landmark {\n",
       "   x: 0.693071902\n",
       "   y: 0.332707405\n",
       "   z: -0.0771055073\n",
       " }\n",
       " landmark {\n",
       "   x: 0.711475968\n",
       "   y: 0.253083408\n",
       "   z: -0.097601518\n",
       " }\n",
       " landmark {\n",
       "   x: 0.563607037\n",
       "   y: 0.540109396\n",
       "   z: -0.0288300011\n",
       " }\n",
       " landmark {\n",
       "   x: 0.584684789\n",
       "   y: 0.359746277\n",
       "   z: -0.0572169274\n",
       " }\n",
       " landmark {\n",
       "   x: 0.599690855\n",
       "   y: 0.246500403\n",
       "   z: -0.0841418\n",
       " }\n",
       " landmark {\n",
       "   x: 0.608985245\n",
       "   y: 0.152951866\n",
       "   z: -0.103856832\n",
       " }\n",
       " landmark {\n",
       "   x: 0.500611186\n",
       "   y: 0.548190951\n",
       "   z: -0.0435897149\n",
       " }\n",
       " landmark {\n",
       "   x: 0.495207846\n",
       "   y: 0.378223062\n",
       "   z: -0.0753379166\n",
       " }\n",
       " landmark {\n",
       "   x: 0.499370396\n",
       "   y: 0.267578036\n",
       "   z: -0.100580849\n",
       " }\n",
       " landmark {\n",
       "   x: 0.505014718\n",
       "   y: 0.170490414\n",
       "   z: -0.117666356\n",
       " }\n",
       " landmark {\n",
       "   x: 0.438006699\n",
       "   y: 0.589164317\n",
       "   z: -0.0626090467\n",
       " }\n",
       " landmark {\n",
       "   x: 0.413743317\n",
       "   y: 0.455569386\n",
       "   z: -0.0953608826\n",
       " }\n",
       " landmark {\n",
       "   x: 0.403012514\n",
       "   y: 0.362839252\n",
       "   z: -0.113438502\n",
       " }\n",
       " landmark {\n",
       "   x: 0.398839295\n",
       "   y: 0.272684306\n",
       "   z: -0.124782152\n",
       " }]"
      ]
     },
     "execution_count": 7,
     "metadata": {},
     "output_type": "execute_result"
    }
   ],
   "source": [
    "result.multi_hand_landmarks"
   ]
  },
  {
   "cell_type": "code",
   "execution_count": null,
   "id": "6bdbd4ea",
   "metadata": {},
   "outputs": [],
   "source": []
  }
 ],
 "metadata": {
  "kernelspec": {
   "display_name": "Python 3 (ipykernel)",
   "language": "python",
   "name": "python3"
  },
  "language_info": {
   "codemirror_mode": {
    "name": "ipython",
    "version": 3
   },
   "file_extension": ".py",
   "mimetype": "text/x-python",
   "name": "python",
   "nbconvert_exporter": "python",
   "pygments_lexer": "ipython3",
   "version": "3.11.5"
  }
 },
 "nbformat": 4,
 "nbformat_minor": 5
}
