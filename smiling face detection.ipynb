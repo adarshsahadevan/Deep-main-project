{
 "cells": [
  {
   "cell_type": "code",
   "execution_count": 8,
   "id": "f53ea140",
   "metadata": {},
   "outputs": [
    {
     "name": "stdout",
     "output_type": "stream",
     "text": [
      "Requirement already satisfied: opencv-python in c:\\users\\acer\\anaconda3\\lib\\site-packages (4.10.0.84)\n",
      "Requirement already satisfied: numpy>=1.21.2 in c:\\users\\acer\\anaconda3\\lib\\site-packages (from opencv-python) (1.24.3)\n",
      "Note: you may need to restart the kernel to use updated packages.\n"
     ]
    }
   ],
   "source": [
    "pip install opencv-python"
   ]
  },
  {
   "cell_type": "code",
   "execution_count": 9,
   "id": "eeb70e6e",
   "metadata": {},
   "outputs": [],
   "source": [
    "import cv2\n",
    "facecascade=cv2.CascadeClassifier('haarcascade_frontalface_default.xml')"
   ]
  },
  {
   "cell_type": "code",
   "execution_count": 17,
   "id": "4bd59d70",
   "metadata": {},
   "outputs": [],
   "source": [
    "image = cv2.imread('smiling_face.jpg')\n",
    "gray = cv2.cvtColor(image,cv2.COLOR_BGR2GRAY)"
   ]
  },
  {
   "cell_type": "markdown",
   "id": "3262074a",
   "metadata": {},
   "source": [
    "#### Scale Factor - Parameter specifying how much the image size is reduced.\n",
    "\n",
    "#### minneighbors - parameter specifying how many neighbours each candidate rectangle show\n",
    "\n",
    "#### minsize - minimum possible object size. Object smaller than that are ignored"
   ]
  },
  {
   "cell_type": "code",
   "execution_count": 20,
   "id": "6b1b0967",
   "metadata": {},
   "outputs": [],
   "source": [
    "faces = facecascade.detectMultiScale(gray,scaleFactor=1.1,minNeighbors=2,minSize=(10,10))  # minNeighbors is the number of min faces that we need to detect."
   ]
  },
  {
   "cell_type": "code",
   "execution_count": 21,
   "id": "da805730",
   "metadata": {},
   "outputs": [
    {
     "name": "stdout",
     "output_type": "stream",
     "text": [
      "Found 7 faces!\n",
      "[[273  52  55  55]\n",
      " [227 106  66  66]\n",
      " [374  80  57  57]\n",
      " [169  58  69  69]\n",
      " [ 79 100  90  90]\n",
      " [425 125  69  69]\n",
      " [302 124  62  62]]\n"
     ]
    }
   ],
   "source": [
    "print(\"Found {0} faces!\".format(len(faces))) # to get the face location\n",
    "print(faces)\n",
    "\n",
    "for (x,y,w,h) in faces:\n",
    "    cv2.rectangle(image,(x,y),(x+w,y+h),(0,0,255),5) # (x+w,y+h) is to join rectangle sides, (0,0,255) here it is (blue,green,red) in this order the machine detect. # 5 is the thickness of border of the detect rectangle. "
   ]
  },
  {
   "cell_type": "code",
   "execution_count": 22,
   "id": "7256770f",
   "metadata": {},
   "outputs": [],
   "source": [
    "cv2.imshow(\"faces\",image)\n",
    "cv2.waitKey(0)\n",
    "cv2.destroyAllWindows()"
   ]
  },
  {
   "cell_type": "markdown",
   "id": "227bc973",
   "metadata": {},
   "source": [
    "#### cv2CascadeClassifier: This is a class in the OpenCV library used for object detection using Haar-like features.It's specifically designed to detect various objects based on pretrained XML classifiers.\n",
    "\n",
    "#### (\"haarcascase_frontalface_default xml\"): This is the file path or the name of the XML file containing the pre-trained model for detecting frontal faces. This XML, file includes necessary information to detect faces using the Haar Cascade method.\n",
    "\n",
    "#### face_cistr : This is a variable used to store the initialized face detection classifier.\n",
    "\n",
    "#### So,this line of code esentially loads a pre trained model (In this case, a frontal face detection model)into the face_clsfr variable, allowing you to use it to detect faces in Images, videos frames, Once initialized you can use this classifier to detect faces by passing images or frames through it."
   ]
  },
  {
   "cell_type": "code",
   "execution_count": null,
   "id": "a445f8d7",
   "metadata": {},
   "outputs": [],
   "source": []
  }
 ],
 "metadata": {
  "kernelspec": {
   "display_name": "Python 3 (ipykernel)",
   "language": "python",
   "name": "python3"
  },
  "language_info": {
   "codemirror_mode": {
    "name": "ipython",
    "version": 3
   },
   "file_extension": ".py",
   "mimetype": "text/x-python",
   "name": "python",
   "nbconvert_exporter": "python",
   "pygments_lexer": "ipython3",
   "version": "3.11.5"
  }
 },
 "nbformat": 4,
 "nbformat_minor": 5
}
