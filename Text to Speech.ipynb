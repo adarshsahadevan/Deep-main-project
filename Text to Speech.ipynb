{
 "cells": [
  {
   "cell_type": "code",
   "execution_count": 1,
   "id": "22e3124e",
   "metadata": {},
   "outputs": [
    {
     "name": "stdout",
     "output_type": "stream",
     "text": [
      "Collecting gtts\n",
      "  Obtaining dependency information for gtts from https://files.pythonhosted.org/packages/09/82/710c2bd7b164df39441b18b567ea7a96e286c4924e465de2e9830cdd5354/gTTS-2.5.2-py3-none-any.whl.metadata\n",
      "  Downloading gTTS-2.5.2-py3-none-any.whl.metadata (4.1 kB)\n",
      "Requirement already satisfied: requests<3,>=2.27 in c:\\users\\acer\\anaconda3\\lib\\site-packages (from gtts) (2.31.0)\n",
      "Requirement already satisfied: click<8.2,>=7.1 in c:\\users\\acer\\anaconda3\\lib\\site-packages (from gtts) (8.0.4)\n",
      "Requirement already satisfied: colorama in c:\\users\\acer\\anaconda3\\lib\\site-packages (from click<8.2,>=7.1->gtts) (0.4.6)\n",
      "Requirement already satisfied: charset-normalizer<4,>=2 in c:\\users\\acer\\anaconda3\\lib\\site-packages (from requests<3,>=2.27->gtts) (2.0.4)\n",
      "Requirement already satisfied: idna<4,>=2.5 in c:\\users\\acer\\anaconda3\\lib\\site-packages (from requests<3,>=2.27->gtts) (3.4)\n",
      "Requirement already satisfied: urllib3<3,>=1.21.1 in c:\\users\\acer\\anaconda3\\lib\\site-packages (from requests<3,>=2.27->gtts) (1.26.16)\n",
      "Requirement already satisfied: certifi>=2017.4.17 in c:\\users\\acer\\anaconda3\\lib\\site-packages (from requests<3,>=2.27->gtts) (2023.7.22)\n",
      "Downloading gTTS-2.5.2-py3-none-any.whl (29 kB)\n",
      "Installing collected packages: gtts\n",
      "Successfully installed gtts-2.5.2\n",
      "Note: you may need to restart the kernel to use updated packages.\n"
     ]
    }
   ],
   "source": [
    "pip install gtts"
   ]
  },
  {
   "cell_type": "code",
   "execution_count": 3,
   "id": "c79cc7b3",
   "metadata": {},
   "outputs": [],
   "source": [
    "from gtts import gTTS\n",
    "import os"
   ]
  },
  {
   "cell_type": "code",
   "execution_count": 4,
   "id": "b61bd13b",
   "metadata": {},
   "outputs": [],
   "source": [
    "# gtts is the goole Text-to-Speech library to convert text into speech.\n",
    "# os is a standard library in python that provides a way of using operating system dependent functionality like reading or writing to the file system nd executing system commands."
   ]
  },
  {
   "cell_type": "code",
   "execution_count": 9,
   "id": "8d69390e",
   "metadata": {},
   "outputs": [
    {
     "name": "stdout",
     "output_type": "stream",
     "text": [
      "Saved TTS to output.mp3\n"
     ]
    }
   ],
   "source": [
    "def text_to_speech(text,output_file):\n",
    "    # convert text to speech\n",
    "    tts = gTTS(text=text, lang='en')\n",
    "    # save the speech to an audio file\n",
    "    tts.save(output_file)\n",
    "    print(f\"Saved TTS to {output_file}\")\n",
    "    # play the audio file (Windows)\n",
    "    os.system(f\"start {output_file}\")\n",
    "    \n",
    "if __name__== \"__main__\":\n",
    "    # Define the text to be coverted to speech\n",
    "    text = \"bibi mon happy alleeeeeeeeeeeeeeeeeeeeeeeeeeeeeeeeeeeeeeeeeeeeeeeeeeeeeeeeeeeeeeeeeeeeeeeeeeeeeeeeeeeeeeeeeeeee\"\n",
    "    # Define the output file name\n",
    "    output_file = \"output.mp3\"\n",
    "    # call the function\n",
    "    text_to_speech(text, output_file)\n",
    "    # This block checks if the script is being run directly (not imported as a module in another script).\n",
    "    # It defines the text to be converted and the name of the output file.\n",
    "    # It calls the text_to_speech function with the defined text and output file name."
   ]
  },
  {
   "cell_type": "code",
   "execution_count": null,
   "id": "e12f0aef",
   "metadata": {},
   "outputs": [],
   "source": []
  },
  {
   "cell_type": "code",
   "execution_count": 10,
   "id": "6455e98f",
   "metadata": {},
   "outputs": [],
   "source": [
    "# offline method (because online method wrks using google so net is needed)\n"
   ]
  },
  {
   "cell_type": "code",
   "execution_count": 11,
   "id": "2d3626cd",
   "metadata": {},
   "outputs": [
    {
     "name": "stdout",
     "output_type": "stream",
     "text": [
      "Collecting pyttsx3\n",
      "  Obtaining dependency information for pyttsx3 from https://files.pythonhosted.org/packages/33/9a/de4781245f5ad966646fd276259ef7cfd400ba3cf7d5db7c0d5aab310c20/pyttsx3-2.90-py3-none-any.whl.metadata\n",
      "  Downloading pyttsx3-2.90-py3-none-any.whl.metadata (3.6 kB)\n",
      "Collecting comtypes (from pyttsx3)\n",
      "  Obtaining dependency information for comtypes from https://files.pythonhosted.org/packages/c1/c9/6a9bd7daf0f02d4a10319f80a36f3ad1b85d1fde14f69bf730599cdc7eae/comtypes-1.4.5-py3-none-any.whl.metadata\n",
      "  Downloading comtypes-1.4.5-py3-none-any.whl.metadata (6.4 kB)\n",
      "Collecting pypiwin32 (from pyttsx3)\n",
      "  Obtaining dependency information for pypiwin32 from https://files.pythonhosted.org/packages/d0/1b/2f292bbd742e369a100c91faa0483172cd91a1a422a6692055ac920946c5/pypiwin32-223-py3-none-any.whl.metadata\n",
      "  Downloading pypiwin32-223-py3-none-any.whl.metadata (236 bytes)\n",
      "Requirement already satisfied: pywin32 in c:\\users\\acer\\anaconda3\\lib\\site-packages (from pyttsx3) (305.1)\n",
      "Downloading pyttsx3-2.90-py3-none-any.whl (39 kB)\n",
      "Downloading comtypes-1.4.5-py3-none-any.whl (219 kB)\n",
      "   ---------------------------------------- 0.0/219.4 kB ? eta -:--:--\n",
      "   ----- ---------------------------------- 30.7/219.4 kB 1.3 MB/s eta 0:00:01\n",
      "   -------------------- ------------------- 112.6/219.4 kB 1.3 MB/s eta 0:00:01\n",
      "   ---------------------------------------- 219.4/219.4 kB 1.7 MB/s eta 0:00:00\n",
      "Downloading pypiwin32-223-py3-none-any.whl (1.7 kB)\n",
      "Installing collected packages: pypiwin32, comtypes, pyttsx3\n",
      "Successfully installed comtypes-1.4.5 pypiwin32-223 pyttsx3-2.90\n",
      "Note: you may need to restart the kernel to use updated packages.\n"
     ]
    }
   ],
   "source": [
    "pip install pyttsx3"
   ]
  },
  {
   "cell_type": "code",
   "execution_count": 25,
   "id": "120f41bb",
   "metadata": {},
   "outputs": [
    {
     "name": "stdout",
     "output_type": "stream",
     "text": [
      "Saved TTS to output2.mp3\n"
     ]
    }
   ],
   "source": [
    "import pyttsx3 # lib\n",
    "import os\n",
    "\n",
    "def text_to_speech(text, output_file):\n",
    "    # Initialize the TTS engine\n",
    "    engine = pyttsx3.init()\n",
    "    \n",
    "    # Set properties (optional)\n",
    "    engine.setProperty('rate',100)  # speed of speech\n",
    "    engine.setProperty('volume',1) # volume level (0.0 to 1.0)\n",
    "    \n",
    "    # save the speech to an audio file\n",
    "    engine.save_to_file(text, output_file)\n",
    "    \n",
    "    # run the speech engine\n",
    "    engine.runAndWait()\n",
    "    \n",
    "    print(f\"Saved TTS to {output_file}\")\n",
    "    \n",
    "    # play the audio file (Windows)\n",
    "    os.system(f\"start {output_file}\")\n",
    "    \n",
    "if __name__ == \"__main__\":\n",
    "    # Define the text to be converted to speech\n",
    "    text = \"hi all how are you guys\"\n",
    "    # Define the output file name\n",
    "    output_file = \"output2.mp3\"\n",
    "    # Call the function\n",
    "    text_to_speech(text,output_file)"
   ]
  },
  {
   "cell_type": "code",
   "execution_count": 23,
   "id": "a7e19711",
   "metadata": {},
   "outputs": [
    {
     "ename": "SyntaxError",
     "evalue": "invalid syntax (2497723134.py, line 1)",
     "output_type": "error",
     "traceback": [
      "\u001b[1;36m  Cell \u001b[1;32mIn[23], line 1\u001b[1;36m\u001b[0m\n\u001b[1;33m    pyttsx3 is used for text-to-speech conversion.\u001b[0m\n\u001b[1;37m                    ^\u001b[0m\n\u001b[1;31mSyntaxError\u001b[0m\u001b[1;31m:\u001b[0m invalid syntax\n"
     ]
    }
   ],
   "source": [
    "pyttsx3 is used for text-to-speech conversion.\n",
    "os is used to interact with the operating system to play the audio file.\n",
    "\n",
    "\n",
    "pyttsx3.init() initializes the text-to-speech engine. This engine will handle the conversion of text to speech.\n",
    "\n",
    "\n",
    "Set Properties (Optional):\n",
    "engine.setProperty('rate', 100): This sets the speed of the speech. The value 150 is the words per minute. You can adjust this to make the speech faster or slower.\n",
    "engine.setProperty('volume', 1): This sets the volume level of the speech.The value 1 represents the maximum volume. You can set it between 0.0 (minimum) and 1.0 (maximum)\n",
    "    \n",
    "    \n",
    "Save Speech to an Audio File:\n",
    "engine.save_to_file(text, output_file): This method converts the given text to speech and saves it to the specified file (output_file). In this case, it saves the audio as output.mp3.    .\n",
    "    \n",
    "   \n",
    "Run the Speech Engine:\n",
    "engine.runAndWait(): This function processes all the currently queued commands, which includes converting the text to speech and saving it to the file. It ensures that the conversion and saving are completed before the program procee\n",
    "    \n",
    "Print Confirmation:\n",
    "print(f\"Saved TTS to {output_file}\"): This prints a confirmation message to the console, indicating that the text-to-speech conversion has been saved to the specified file.\n",
    "\n",
    "    \n",
    "Play the Audio File (Windows): \n",
    "os.system(f\"start {output_file}\"): This uses the os module to execute the system command start, which opens the specified file (output_file) using the default media player on Windows.\n",
    "    \n",
    "Main Block: \n",
    "This block ensures that the following code is executed only when the script is run directly, not when it is imported as a module in another script.    \n"
   ]
  },
  {
   "cell_type": "code",
   "execution_count": null,
   "id": "a6b2c218",
   "metadata": {},
   "outputs": [],
   "source": []
  }
 ],
 "metadata": {
  "kernelspec": {
   "display_name": "Python 3 (ipykernel)",
   "language": "python",
   "name": "python3"
  },
  "language_info": {
   "codemirror_mode": {
    "name": "ipython",
    "version": 3
   },
   "file_extension": ".py",
   "mimetype": "text/x-python",
   "name": "python",
   "nbconvert_exporter": "python",
   "pygments_lexer": "ipython3",
   "version": "3.11.5"
  }
 },
 "nbformat": 4,
 "nbformat_minor": 5
}
